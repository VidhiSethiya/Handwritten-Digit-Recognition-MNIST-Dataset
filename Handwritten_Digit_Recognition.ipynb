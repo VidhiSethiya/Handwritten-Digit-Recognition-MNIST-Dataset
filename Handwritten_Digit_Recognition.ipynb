{
  "nbformat": 4,
  "nbformat_minor": 0,
  "metadata": {
    "colab": {
      "name": "Handwritten Digit Recognition",
      "provenance": []
    },
    "kernelspec": {
      "name": "python3",
      "display_name": "Python 3"
    },
    "language_info": {
      "name": "python"
    }
  },
  "cells": [
    {
      "cell_type": "markdown",
      "source": [
        "# **Handwritten Digit Recognition**\n",
        "**MNIST Dataset**"
      ],
      "metadata": {
        "id": "gZGd53irmZlY"
      }
    },
    {
      "cell_type": "code",
      "execution_count": 1,
      "metadata": {
        "id": "RuDGNICjgiRB"
      },
      "outputs": [],
      "source": [
        "import numpy as np\n",
        "import keras\n",
        "from keras.datasets import mnist\n",
        "from keras.models import Sequential\n",
        "from keras.layers import Dense, Dropout, Flatten, Conv2D, MaxPooling2D\n",
        "from keras import backend as K\n",
        "from keras.preprocessing import image\n",
        "from keras.applications.mobilenet import MobileNet\n",
        "from keras.applications.vgg16 import preprocess_input, decode_predictions\n",
        "from keras.models import Model\n",
        "import timeit\n",
        "import tensorflow as tf\n",
        "import warnings\n",
        "warnings.filterwarnings('ignore')"
      ]
    },
    {
      "cell_type": "code",
      "source": [
        "batch_size = 64\n",
        "num_classes = 10\n",
        "epochs = 45\n",
        "\n",
        "# input image dimensions\n",
        "img_rows, img_cols = 28, 28\n",
        "\n",
        "# the data, shuffled and split between train and test sets\n",
        "(x_train, y_train), (x_test, y_test) = mnist.load_data()\n",
        "\n",
        "if K.image_data_format() == 'channels_first':\n",
        "    x_train = x_train.reshape(x_train.shape[0], 1, img_rows, img_cols)\n",
        "    x_test = x_test.reshape(x_test.shape[0], 1, img_rows, img_cols)\n",
        "    input_shape = (1, img_rows, img_cols)\n",
        "else:\n",
        "    x_train = x_train.reshape(x_train.shape[0], img_rows, img_cols, 1)\n",
        "    x_test = x_test.reshape(x_test.shape[0], img_rows, img_cols, 1)\n",
        "    input_shape = (img_rows, img_cols, 1)\n",
        "\n",
        "x_train = x_train.astype('float32')\n",
        "x_test = x_test.astype('float32')\n",
        "x_train /= 255\n",
        "x_test /= 255\n",
        "print('x_train shape:', x_train.shape)\n",
        "print(x_train.shape[0], 'train samples')\n",
        "print(x_test.shape[0], 'test samples')\n",
        "\n",
        "# convert class vectors to binary class matrices\n",
        "y_train = tf.keras.utils.to_categorical(y_train, num_classes)\n",
        "y_test = tf.keras.utils.to_categorical(y_test, num_classes)\n"
      ],
      "metadata": {
        "colab": {
          "base_uri": "https://localhost:8080/"
        },
        "id": "aXhM1PKQgxYl",
        "outputId": "18ad5c45-de48-4eb9-8601-a0d5881d04eb"
      },
      "execution_count": 16,
      "outputs": [
        {
          "output_type": "stream",
          "name": "stdout",
          "text": [
            "x_train shape: (60000, 28, 28, 1)\n",
            "60000 train samples\n",
            "10000 test samples\n"
          ]
        }
      ]
    },
    {
      "cell_type": "markdown",
      "source": [
        "Model Creation"
      ],
      "metadata": {
        "id": "R4KBcbZpg6yn"
      }
    },
    {
      "cell_type": "code",
      "source": [
        "model = Sequential()\n",
        "model.add(Conv2D(8, kernel_size=(3, 3), activation='relu', input_shape=input_shape))\n",
        "model.add(MaxPooling2D(pool_size=(2, 2)))\n",
        "model.add(Conv2D(16, (3, 3), activation='relu'))\n",
        "model.add(MaxPooling2D(pool_size=(2, 2)))\n",
        "model.add(Dropout(0.25))\n",
        "model.add(Flatten())\n",
        "model.add(Dense(32, activation='relu'))\n",
        "model.add(Dropout(0.5))\n",
        "model.add(Dense(num_classes, activation='softmax'))\n",
        "model.summary()\n"
      ],
      "metadata": {
        "colab": {
          "base_uri": "https://localhost:8080/"
        },
        "id": "8hysauUCg81H",
        "outputId": "372089a4-673a-4015-d8cd-6af89aeea39d"
      },
      "execution_count": 17,
      "outputs": [
        {
          "output_type": "stream",
          "name": "stdout",
          "text": [
            "Model: \"sequential_1\"\n",
            "_________________________________________________________________\n",
            " Layer (type)                Output Shape              Param #   \n",
            "=================================================================\n",
            " conv2d_2 (Conv2D)           (None, 26, 26, 8)         80        \n",
            "                                                                 \n",
            " max_pooling2d_2 (MaxPooling  (None, 13, 13, 8)        0         \n",
            " 2D)                                                             \n",
            "                                                                 \n",
            " conv2d_3 (Conv2D)           (None, 11, 11, 16)        1168      \n",
            "                                                                 \n",
            " max_pooling2d_3 (MaxPooling  (None, 5, 5, 16)         0         \n",
            " 2D)                                                             \n",
            "                                                                 \n",
            " dropout_2 (Dropout)         (None, 5, 5, 16)          0         \n",
            "                                                                 \n",
            " flatten_1 (Flatten)         (None, 400)               0         \n",
            "                                                                 \n",
            " dense_2 (Dense)             (None, 32)                12832     \n",
            "                                                                 \n",
            " dropout_3 (Dropout)         (None, 32)                0         \n",
            "                                                                 \n",
            " dense_3 (Dense)             (None, 10)                330       \n",
            "                                                                 \n",
            "=================================================================\n",
            "Total params: 14,410\n",
            "Trainable params: 14,410\n",
            "Non-trainable params: 0\n",
            "_________________________________________________________________\n"
          ]
        }
      ]
    },
    {
      "cell_type": "markdown",
      "source": [
        "Training"
      ],
      "metadata": {
        "id": "0OAiwq8rhIfV"
      }
    },
    {
      "cell_type": "code",
      "source": [
        "from tensorflow import keras\n",
        "from tensorflow.keras import layers\n",
        "\n",
        "model.compile(loss=keras.losses.categorical_crossentropy,\n",
        "              optimizer='adam',\n",
        "              metrics=['accuracy'])\n",
        "\n",
        "model.fit(x_train, y_train,\n",
        "          batch_size=batch_size,\n",
        "          epochs=epochs,\n",
        "          verbose=1,\n",
        "          validation_data=(x_test, y_test))"
      ],
      "metadata": {
        "colab": {
          "base_uri": "https://localhost:8080/"
        },
        "id": "ZiF_2SUUhAPI",
        "outputId": "894b51a6-c1a0-4214-9dc3-4f0f3a2163c9"
      },
      "execution_count": 18,
      "outputs": [
        {
          "output_type": "stream",
          "name": "stdout",
          "text": [
            "Epoch 1/45\n",
            "938/938 [==============================] - 23s 24ms/step - loss: 0.7019 - accuracy: 0.7689 - val_loss: 0.1363 - val_accuracy: 0.9614\n",
            "Epoch 2/45\n",
            "938/938 [==============================] - 22s 23ms/step - loss: 0.3521 - accuracy: 0.8873 - val_loss: 0.1032 - val_accuracy: 0.9683\n",
            "Epoch 3/45\n",
            "938/938 [==============================] - 23s 24ms/step - loss: 0.2916 - accuracy: 0.9073 - val_loss: 0.0842 - val_accuracy: 0.9734\n",
            "Epoch 4/45\n",
            "938/938 [==============================] - 22s 23ms/step - loss: 0.2639 - accuracy: 0.9168 - val_loss: 0.0727 - val_accuracy: 0.9772\n",
            "Epoch 5/45\n",
            "938/938 [==============================] - 22s 24ms/step - loss: 0.2409 - accuracy: 0.9242 - val_loss: 0.0662 - val_accuracy: 0.9788\n",
            "Epoch 6/45\n",
            "938/938 [==============================] - 22s 24ms/step - loss: 0.2267 - accuracy: 0.9274 - val_loss: 0.0626 - val_accuracy: 0.9792\n",
            "Epoch 7/45\n",
            "938/938 [==============================] - 22s 24ms/step - loss: 0.2135 - accuracy: 0.9324 - val_loss: 0.0581 - val_accuracy: 0.9808\n",
            "Epoch 8/45\n",
            "938/938 [==============================] - 22s 24ms/step - loss: 0.2042 - accuracy: 0.9358 - val_loss: 0.0536 - val_accuracy: 0.9813\n",
            "Epoch 9/45\n",
            "938/938 [==============================] - 22s 23ms/step - loss: 0.1953 - accuracy: 0.9397 - val_loss: 0.0482 - val_accuracy: 0.9838\n",
            "Epoch 10/45\n",
            "938/938 [==============================] - 22s 23ms/step - loss: 0.1883 - accuracy: 0.9409 - val_loss: 0.0479 - val_accuracy: 0.9842\n",
            "Epoch 11/45\n",
            "938/938 [==============================] - 22s 24ms/step - loss: 0.1829 - accuracy: 0.9416 - val_loss: 0.0458 - val_accuracy: 0.9846\n",
            "Epoch 12/45\n",
            "938/938 [==============================] - 22s 23ms/step - loss: 0.1772 - accuracy: 0.9432 - val_loss: 0.0458 - val_accuracy: 0.9850\n",
            "Epoch 13/45\n",
            "938/938 [==============================] - 22s 23ms/step - loss: 0.1769 - accuracy: 0.9437 - val_loss: 0.0468 - val_accuracy: 0.9852\n",
            "Epoch 14/45\n",
            "938/938 [==============================] - 22s 23ms/step - loss: 0.1755 - accuracy: 0.9446 - val_loss: 0.0453 - val_accuracy: 0.9846\n",
            "Epoch 15/45\n",
            "938/938 [==============================] - 22s 24ms/step - loss: 0.1683 - accuracy: 0.9473 - val_loss: 0.0444 - val_accuracy: 0.9844\n",
            "Epoch 16/45\n",
            "938/938 [==============================] - 22s 23ms/step - loss: 0.1650 - accuracy: 0.9480 - val_loss: 0.0400 - val_accuracy: 0.9864\n",
            "Epoch 17/45\n",
            "938/938 [==============================] - 22s 23ms/step - loss: 0.1685 - accuracy: 0.9471 - val_loss: 0.0432 - val_accuracy: 0.9866\n",
            "Epoch 18/45\n",
            "938/938 [==============================] - 22s 23ms/step - loss: 0.1591 - accuracy: 0.9492 - val_loss: 0.0419 - val_accuracy: 0.9865\n",
            "Epoch 19/45\n",
            "938/938 [==============================] - 22s 23ms/step - loss: 0.1587 - accuracy: 0.9504 - val_loss: 0.0400 - val_accuracy: 0.9872\n",
            "Epoch 20/45\n",
            "938/938 [==============================] - 22s 23ms/step - loss: 0.1571 - accuracy: 0.9499 - val_loss: 0.0392 - val_accuracy: 0.9872\n",
            "Epoch 21/45\n",
            "938/938 [==============================] - 22s 23ms/step - loss: 0.1555 - accuracy: 0.9498 - val_loss: 0.0391 - val_accuracy: 0.9870\n",
            "Epoch 22/45\n",
            "938/938 [==============================] - 22s 23ms/step - loss: 0.1530 - accuracy: 0.9513 - val_loss: 0.0384 - val_accuracy: 0.9873\n",
            "Epoch 23/45\n",
            "938/938 [==============================] - 22s 23ms/step - loss: 0.1489 - accuracy: 0.9531 - val_loss: 0.0388 - val_accuracy: 0.9873\n",
            "Epoch 24/45\n",
            "938/938 [==============================] - 22s 23ms/step - loss: 0.1487 - accuracy: 0.9519 - val_loss: 0.0365 - val_accuracy: 0.9870\n",
            "Epoch 25/45\n",
            "938/938 [==============================] - 22s 23ms/step - loss: 0.1481 - accuracy: 0.9522 - val_loss: 0.0372 - val_accuracy: 0.9872\n",
            "Epoch 26/45\n",
            "938/938 [==============================] - 22s 23ms/step - loss: 0.1490 - accuracy: 0.9529 - val_loss: 0.0386 - val_accuracy: 0.9869\n",
            "Epoch 27/45\n",
            "938/938 [==============================] - 22s 23ms/step - loss: 0.1450 - accuracy: 0.9532 - val_loss: 0.0398 - val_accuracy: 0.9857\n",
            "Epoch 28/45\n",
            "938/938 [==============================] - 22s 23ms/step - loss: 0.1462 - accuracy: 0.9526 - val_loss: 0.0385 - val_accuracy: 0.9871\n",
            "Epoch 29/45\n",
            "938/938 [==============================] - 23s 25ms/step - loss: 0.1466 - accuracy: 0.9536 - val_loss: 0.0374 - val_accuracy: 0.9871\n",
            "Epoch 30/45\n",
            "938/938 [==============================] - 22s 23ms/step - loss: 0.1432 - accuracy: 0.9539 - val_loss: 0.0362 - val_accuracy: 0.9877\n",
            "Epoch 31/45\n",
            "938/938 [==============================] - 23s 25ms/step - loss: 0.1409 - accuracy: 0.9552 - val_loss: 0.0364 - val_accuracy: 0.9879\n",
            "Epoch 32/45\n",
            "938/938 [==============================] - 24s 26ms/step - loss: 0.1400 - accuracy: 0.9563 - val_loss: 0.0373 - val_accuracy: 0.9871\n",
            "Epoch 33/45\n",
            "938/938 [==============================] - 22s 24ms/step - loss: 0.1371 - accuracy: 0.9553 - val_loss: 0.0353 - val_accuracy: 0.9879\n",
            "Epoch 34/45\n",
            "938/938 [==============================] - 22s 23ms/step - loss: 0.1378 - accuracy: 0.9566 - val_loss: 0.0351 - val_accuracy: 0.9882\n",
            "Epoch 35/45\n",
            "938/938 [==============================] - 22s 23ms/step - loss: 0.1397 - accuracy: 0.9572 - val_loss: 0.0335 - val_accuracy: 0.9877\n",
            "Epoch 36/45\n",
            "938/938 [==============================] - 22s 23ms/step - loss: 0.1374 - accuracy: 0.9558 - val_loss: 0.0360 - val_accuracy: 0.9875\n",
            "Epoch 37/45\n",
            "938/938 [==============================] - 22s 23ms/step - loss: 0.1381 - accuracy: 0.9567 - val_loss: 0.0338 - val_accuracy: 0.9882\n",
            "Epoch 38/45\n",
            "938/938 [==============================] - 22s 23ms/step - loss: 0.1350 - accuracy: 0.9574 - val_loss: 0.0338 - val_accuracy: 0.9881\n",
            "Epoch 39/45\n",
            "938/938 [==============================] - 22s 23ms/step - loss: 0.1333 - accuracy: 0.9567 - val_loss: 0.0325 - val_accuracy: 0.9885\n",
            "Epoch 40/45\n",
            "938/938 [==============================] - 22s 23ms/step - loss: 0.1332 - accuracy: 0.9572 - val_loss: 0.0339 - val_accuracy: 0.9893\n",
            "Epoch 41/45\n",
            "938/938 [==============================] - 22s 23ms/step - loss: 0.1343 - accuracy: 0.9568 - val_loss: 0.0351 - val_accuracy: 0.9884\n",
            "Epoch 42/45\n",
            "938/938 [==============================] - 22s 23ms/step - loss: 0.1310 - accuracy: 0.9573 - val_loss: 0.0323 - val_accuracy: 0.9888\n",
            "Epoch 43/45\n",
            "938/938 [==============================] - 22s 23ms/step - loss: 0.1354 - accuracy: 0.9572 - val_loss: 0.0341 - val_accuracy: 0.9872\n",
            "Epoch 44/45\n",
            "938/938 [==============================] - 22s 23ms/step - loss: 0.1340 - accuracy: 0.9579 - val_loss: 0.0338 - val_accuracy: 0.9884\n",
            "Epoch 45/45\n",
            "938/938 [==============================] - 22s 23ms/step - loss: 0.1368 - accuracy: 0.9567 - val_loss: 0.0324 - val_accuracy: 0.9880\n"
          ]
        },
        {
          "output_type": "execute_result",
          "data": {
            "text/plain": [
              "<keras.callbacks.History at 0x7efe4f5b0790>"
            ]
          },
          "metadata": {},
          "execution_count": 18
        }
      ]
    },
    {
      "cell_type": "markdown",
      "source": [
        "Testing"
      ],
      "metadata": {
        "id": "zV-mAynlhSUb"
      }
    },
    {
      "cell_type": "code",
      "source": [
        "score = model.evaluate(x_test, y_test, verbose=0)\n",
        "print('Test loss:', score[0])\n",
        "print('Test accuracy:', score[1])\n"
      ],
      "metadata": {
        "colab": {
          "base_uri": "https://localhost:8080/"
        },
        "id": "dBg-PetdhUta",
        "outputId": "01839a9c-967e-4422-eac7-578de86c2084"
      },
      "execution_count": 19,
      "outputs": [
        {
          "output_type": "stream",
          "name": "stdout",
          "text": [
            "Test loss: 0.03236875310540199\n",
            "Test accuracy: 0.9879999756813049\n"
          ]
        }
      ]
    },
    {
      "cell_type": "markdown",
      "source": [
        "Prediction"
      ],
      "metadata": {
        "id": "9SuYhPtohcwC"
      }
    },
    {
      "cell_type": "code",
      "source": [
        "import pylab as plt\n",
        "\n",
        "plt.imshow(x_test[120].reshape(28,28),cmap='gray')\n",
        "plt.show()"
      ],
      "metadata": {
        "colab": {
          "base_uri": "https://localhost:8080/",
          "height": 265
        },
        "id": "cYtmbmOnhgER",
        "outputId": "3818467c-d2b1-4713-d39a-09a7a729cdd7"
      },
      "execution_count": 22,
      "outputs": [
        {
          "output_type": "display_data",
          "data": {
            "text/plain": [
              "<Figure size 432x288 with 1 Axes>"
            ],
            "image/png": "[encoded data removed]"
          },
          "metadata": {
            "needs_background": "light"
          }
        }
      ]
    },
    {
      "cell_type": "code",
      "source": [
        "import numpy as np\n",
        "prediction = model.predict(x_test[120:121])\n",
        "print('Prediction Score:\\n',prediction[0])\n",
        "thresholded = (prediction>0.5)*1\n",
        "print('\\nThresholded Score:\\n',thresholded[0])\n",
        "print('\\nPredicted Digit:\\n',np.where(thresholded == 1)[1][0])"
      ],
      "metadata": {
        "colab": {
          "base_uri": "https://localhost:8080/"
        },
        "id": "Cxku8ShEhp8h",
        "outputId": "8f69ee24-a460-4a02-ad79-ef19c4493611"
      },
      "execution_count": 25,
      "outputs": [
        {
          "output_type": "stream",
          "name": "stdout",
          "text": [
            "Prediction Score:\n",
            " [1.1024424e-17 1.0801275e-14 1.6684959e-13 6.5431800e-06 8.0675348e-14\n",
            " 9.9999118e-01 1.2788241e-13 1.5723784e-12 3.4587583e-07 1.8841841e-06]\n",
            "\n",
            "Thresholded Score:\n",
            " [0 0 0 0 0 1 0 0 0 0]\n",
            "\n",
            "Predicted Digit:\n",
            " 5\n"
          ]
        }
      ]
    }
  ]
}